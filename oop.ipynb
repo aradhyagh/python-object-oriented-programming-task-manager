{
 "cells": [
  {
   "cell_type": "code",
   "execution_count": 1,
   "id": "68409cab-cc24-4c6f-bda3-41736e0bdb7f",
   "metadata": {},
   "outputs": [],
   "source": [
    "import pandas as pd"
   ]
  },
  {
   "cell_type": "code",
   "execution_count": 17,
   "id": "9d2ee0e0-0158-431e-9cb8-a7859a7ce64f",
   "metadata": {},
   "outputs": [
    {
     "name": "stdout",
     "output_type": "stream",
     "text": [
      "Welcome to the Task Manager\n",
      "\n",
      "1. Show Tasks\n",
      "2. Add Tasks\n",
      "3. Mark as Complete\n",
      "4. Remove Task\n",
      "5. Save Tasks in CSV\n",
      "6. Exit\n"
     ]
    },
    {
     "name": "stdin",
     "output_type": "stream",
     "text": [
      "\n",
      "Enter your choice (1-6):  1\n"
     ]
    },
    {
     "name": "stdout",
     "output_type": "stream",
     "text": [
      "Empty DataFrame\n",
      "Columns: []\n",
      "Index: []\n",
      "\n",
      "1. Show Tasks\n",
      "2. Add Tasks\n",
      "3. Mark as Complete\n",
      "4. Remove Task\n",
      "5. Save Tasks in CSV\n",
      "6. Exit\n"
     ]
    },
    {
     "name": "stdin",
     "output_type": "stream",
     "text": [
      "\n",
      "Enter your choice (1-6):  2\n"
     ]
    },
    {
     "name": "stdout",
     "output_type": "stream",
     "text": [
      "Enter your new task details\n"
     ]
    },
    {
     "name": "stdin",
     "output_type": "stream",
     "text": [
      "Task date:  17-06-2000\n",
      "Task title:  birthday\n",
      "Task description:  bhavika\n",
      "Task quantity:  24\n"
     ]
    },
    {
     "name": "stdout",
     "output_type": "stream",
     "text": [
      "\n",
      "The task has been added successfully :)\n",
      "\n",
      "\n",
      "1. Add another task \n",
      "Anything else. Main menu\n",
      "\n",
      "Enter your choice: \n"
     ]
    },
    {
     "name": "stdin",
     "output_type": "stream",
     "text": [
      "  1\n"
     ]
    },
    {
     "name": "stdout",
     "output_type": "stream",
     "text": [
      "Enter your new task details\n"
     ]
    },
    {
     "name": "stdin",
     "output_type": "stream",
     "text": [
      "Task date:  16-08-2024\n",
      "Task title:  birthday\n",
      "Task description:  aradhya\n",
      "Task quantity:  21\n"
     ]
    },
    {
     "name": "stdout",
     "output_type": "stream",
     "text": [
      "\n",
      "The task has been added successfully :)\n",
      "\n",
      "\n",
      "1. Add another task \n",
      "Anything else. Main menu\n",
      "\n",
      "Enter your choice: \n"
     ]
    },
    {
     "name": "stdin",
     "output_type": "stream",
     "text": [
      "  1\n"
     ]
    },
    {
     "name": "stdout",
     "output_type": "stream",
     "text": [
      "Enter your new task details\n"
     ]
    },
    {
     "name": "stdin",
     "output_type": "stream",
     "text": [
      "Task date:  24-07-2024\n",
      "Task title:  birthday\n",
      "Task description:  mahi\n",
      "Task quantity:  2\n"
     ]
    },
    {
     "name": "stdout",
     "output_type": "stream",
     "text": [
      "\n",
      "The task has been added successfully :)\n",
      "\n",
      "\n",
      "1. Add another task \n",
      "Anything else. Main menu\n",
      "\n",
      "Enter your choice: \n"
     ]
    },
    {
     "name": "stdin",
     "output_type": "stream",
     "text": [
      "  56\n"
     ]
    },
    {
     "name": "stdout",
     "output_type": "stream",
     "text": [
      "\n",
      "1. Show Tasks\n",
      "2. Add Tasks\n",
      "3. Mark as Complete\n",
      "4. Remove Task\n",
      "5. Save Tasks in CSV\n",
      "6. Exit\n"
     ]
    },
    {
     "name": "stdin",
     "output_type": "stream",
     "text": [
      "\n",
      "Enter your choice (1-6):  1\n"
     ]
    },
    {
     "name": "stdout",
     "output_type": "stream",
     "text": [
      "            0         1        2   3        4\n",
      "0  17-06-2000  birthday  bhavika  24  pending\n",
      "1  16-08-2024  birthday  aradhya  21  pending\n",
      "2  24-07-2024  birthday     mahi   2  pending\n",
      "\n",
      "1. Show Tasks\n",
      "2. Add Tasks\n",
      "3. Mark as Complete\n",
      "4. Remove Task\n",
      "5. Save Tasks in CSV\n",
      "6. Exit\n"
     ]
    },
    {
     "name": "stdin",
     "output_type": "stream",
     "text": [
      "\n",
      "Enter your choice (1-6):  3\n"
     ]
    },
    {
     "name": "stdout",
     "output_type": "stream",
     "text": [
      "            0         1        2   3        4\n",
      "0  17-06-2000  birthday  bhavika  24  pending\n",
      "1  16-08-2024  birthday  aradhya  21  pending\n",
      "2  24-07-2024  birthday     mahi   2  pending\n",
      "kindly insert the index of the completed task\n"
     ]
    },
    {
     "name": "stdin",
     "output_type": "stream",
     "text": [
      "  0\n"
     ]
    },
    {
     "name": "stdout",
     "output_type": "stream",
     "text": [
      "The task has been updated as completed\n",
      "\n",
      "1. Show Tasks\n",
      "2. Add Tasks\n",
      "3. Mark as Complete\n",
      "4. Remove Task\n",
      "5. Save Tasks in CSV\n",
      "6. Exit\n"
     ]
    },
    {
     "name": "stdin",
     "output_type": "stream",
     "text": [
      "\n",
      "Enter your choice (1-6):  3\n"
     ]
    },
    {
     "name": "stdout",
     "output_type": "stream",
     "text": [
      "            0         1        2   3          4\n",
      "0  17-06-2000  birthday  bhavika  24  completed\n",
      "1  16-08-2024  birthday  aradhya  21    pending\n",
      "2  24-07-2024  birthday     mahi   2    pending\n",
      "kindly insert the index of the completed task\n"
     ]
    },
    {
     "name": "stdin",
     "output_type": "stream",
     "text": [
      "  3\n"
     ]
    },
    {
     "name": "stdout",
     "output_type": "stream",
     "text": [
      "No task found. The task starts from the index 0 to 2\n",
      "\n",
      "1. Show Tasks\n",
      "2. Add Tasks\n",
      "3. Mark as Complete\n",
      "4. Remove Task\n",
      "5. Save Tasks in CSV\n",
      "6. Exit\n"
     ]
    },
    {
     "name": "stdin",
     "output_type": "stream",
     "text": [
      "\n",
      "Enter your choice (1-6):  4\n"
     ]
    },
    {
     "name": "stdout",
     "output_type": "stream",
     "text": [
      "            0         1        2   3          4\n",
      "0  17-06-2000  birthday  bhavika  24  completed\n",
      "1  16-08-2024  birthday  aradhya  21    pending\n",
      "2  24-07-2024  birthday     mahi   2    pending\n",
      "kindly insert the index of the task which should be removed\n"
     ]
    },
    {
     "name": "stdin",
     "output_type": "stream",
     "text": [
      "  1\n"
     ]
    },
    {
     "name": "stdout",
     "output_type": "stream",
     "text": [
      "The task has been removed sucessfully\n",
      "\n",
      "1. Show Tasks\n",
      "2. Add Tasks\n",
      "3. Mark as Complete\n",
      "4. Remove Task\n",
      "5. Save Tasks in CSV\n",
      "6. Exit\n"
     ]
    },
    {
     "name": "stdin",
     "output_type": "stream",
     "text": [
      "\n",
      "Enter your choice (1-6):  4\n"
     ]
    },
    {
     "name": "stdout",
     "output_type": "stream",
     "text": [
      "            0         1        2   3          4\n",
      "0  17-06-2000  birthday  bhavika  24  completed\n",
      "1  24-07-2024  birthday     mahi   2    pending\n",
      "kindly insert the index of the task which should be removed\n"
     ]
    },
    {
     "name": "stdin",
     "output_type": "stream",
     "text": [
      "  868\n"
     ]
    },
    {
     "name": "stdout",
     "output_type": "stream",
     "text": [
      "No task found. The task starts from the index 0 to 1\n",
      "\n",
      "1. Show Tasks\n",
      "2. Add Tasks\n",
      "3. Mark as Complete\n",
      "4. Remove Task\n",
      "5. Save Tasks in CSV\n",
      "6. Exit\n"
     ]
    },
    {
     "name": "stdin",
     "output_type": "stream",
     "text": [
      "\n",
      "Enter your choice (1-6):  5\n"
     ]
    },
    {
     "name": "stdout",
     "output_type": "stream",
     "text": [
      "name the output file\n"
     ]
    },
    {
     "name": "stdin",
     "output_type": "stream",
     "text": [
      "  trial 2\n"
     ]
    },
    {
     "name": "stdout",
     "output_type": "stream",
     "text": [
      "The file trial 2.csv has been saved sucessfully\n",
      "\n",
      "1. Show Tasks\n",
      "2. Add Tasks\n",
      "3. Mark as Complete\n",
      "4. Remove Task\n",
      "5. Save Tasks in CSV\n",
      "6. Exit\n"
     ]
    },
    {
     "name": "stdin",
     "output_type": "stream",
     "text": [
      "\n",
      "Enter your choice (1-6):  6\n"
     ]
    },
    {
     "name": "stdout",
     "output_type": "stream",
     "text": [
      "Thank you for using the Task Manager!\n",
      "\n",
      "1. Show Tasks\n",
      "2. Add Tasks\n",
      "3. Mark as Complete\n",
      "4. Remove Task\n",
      "5. Save Tasks in CSV\n",
      "6. Exit\n"
     ]
    },
    {
     "ename": "KeyboardInterrupt",
     "evalue": "Interrupted by user",
     "output_type": "error",
     "traceback": [
      "\u001b[1;31m---------------------------------------------------------------------------\u001b[0m",
      "\u001b[1;31mKeyboardInterrupt\u001b[0m                         Traceback (most recent call last)",
      "Cell \u001b[1;32mIn[17], line 101\u001b[0m\n\u001b[0;32m     98\u001b[0m                 \u001b[38;5;28mprint\u001b[39m(\u001b[38;5;124m\"\u001b[39m\u001b[38;5;130;01m\\n\u001b[39;00m\u001b[38;5;124mInvalid choice! Please enter a number between 1 and 6.\u001b[39m\u001b[38;5;124m\"\u001b[39m)\n\u001b[0;32m    100\u001b[0m app \u001b[38;5;241m=\u001b[39m todolist()\n\u001b[1;32m--> 101\u001b[0m \u001b[43mapp\u001b[49m\u001b[38;5;241;43m.\u001b[39;49m\u001b[43mstart\u001b[49m\u001b[43m(\u001b[49m\u001b[43m)\u001b[49m\n",
      "Cell \u001b[1;32mIn[17], line 71\u001b[0m, in \u001b[0;36mtodolist.start\u001b[1;34m(self)\u001b[0m\n\u001b[0;32m     69\u001b[0m \u001b[38;5;28;01mdef\u001b[39;00m \u001b[38;5;21mstart\u001b[39m(\u001b[38;5;28mself\u001b[39m):\n\u001b[0;32m     70\u001b[0m     \u001b[38;5;28mprint\u001b[39m(\u001b[38;5;124m\"\u001b[39m\u001b[38;5;124mWelcome to the Task Manager\u001b[39m\u001b[38;5;124m\"\u001b[39m)\n\u001b[1;32m---> 71\u001b[0m     \u001b[38;5;28;43mself\u001b[39;49m\u001b[38;5;241;43m.\u001b[39;49m\u001b[43mbegin\u001b[49m\u001b[43m(\u001b[49m\u001b[43m)\u001b[49m\n",
      "Cell \u001b[1;32mIn[17], line 87\u001b[0m, in \u001b[0;36mtodolist.begin\u001b[1;34m(self)\u001b[0m\n\u001b[0;32m     85\u001b[0m     \u001b[38;5;28mself\u001b[39m\u001b[38;5;241m.\u001b[39mshow()\n\u001b[0;32m     86\u001b[0m \u001b[38;5;28;01melif\u001b[39;00m choice \u001b[38;5;241m==\u001b[39m \u001b[38;5;124m\"\u001b[39m\u001b[38;5;124m2\u001b[39m\u001b[38;5;124m\"\u001b[39m:\n\u001b[1;32m---> 87\u001b[0m     \u001b[38;5;28;43mself\u001b[39;49m\u001b[38;5;241;43m.\u001b[39;49m\u001b[43madd\u001b[49m\u001b[43m(\u001b[49m\u001b[43m)\u001b[49m\n\u001b[0;32m     88\u001b[0m \u001b[38;5;28;01melif\u001b[39;00m choice \u001b[38;5;241m==\u001b[39m \u001b[38;5;124m\"\u001b[39m\u001b[38;5;124m3\u001b[39m\u001b[38;5;124m\"\u001b[39m:\n\u001b[0;32m     89\u001b[0m     \u001b[38;5;28mself\u001b[39m\u001b[38;5;241m.\u001b[39mcomplete()\n",
      "Cell \u001b[1;32mIn[17], line 24\u001b[0m, in \u001b[0;36mtodolist.add\u001b[1;34m(self)\u001b[0m\n\u001b[0;32m     22\u001b[0m new_end \u001b[38;5;241m=\u001b[39m \u001b[38;5;28mstr\u001b[39m(\u001b[38;5;28minput\u001b[39m(\u001b[38;5;124m\"\u001b[39m\u001b[38;5;124m \u001b[39m\u001b[38;5;124m\"\u001b[39m))\n\u001b[0;32m     23\u001b[0m \u001b[38;5;28;01mif\u001b[39;00m new_end \u001b[38;5;241m==\u001b[39m \u001b[38;5;124m\"\u001b[39m\u001b[38;5;124m1\u001b[39m\u001b[38;5;124m\"\u001b[39m:\n\u001b[1;32m---> 24\u001b[0m     \u001b[38;5;28;43mself\u001b[39;49m\u001b[38;5;241;43m.\u001b[39;49m\u001b[43madd\u001b[49m\u001b[43m(\u001b[49m\u001b[43m)\u001b[49m\n\u001b[0;32m     25\u001b[0m \u001b[38;5;28;01melse\u001b[39;00m:\n\u001b[0;32m     26\u001b[0m     \u001b[38;5;28mself\u001b[39m\u001b[38;5;241m.\u001b[39mbegin()\n",
      "Cell \u001b[1;32mIn[17], line 24\u001b[0m, in \u001b[0;36mtodolist.add\u001b[1;34m(self)\u001b[0m\n\u001b[0;32m     22\u001b[0m new_end \u001b[38;5;241m=\u001b[39m \u001b[38;5;28mstr\u001b[39m(\u001b[38;5;28minput\u001b[39m(\u001b[38;5;124m\"\u001b[39m\u001b[38;5;124m \u001b[39m\u001b[38;5;124m\"\u001b[39m))\n\u001b[0;32m     23\u001b[0m \u001b[38;5;28;01mif\u001b[39;00m new_end \u001b[38;5;241m==\u001b[39m \u001b[38;5;124m\"\u001b[39m\u001b[38;5;124m1\u001b[39m\u001b[38;5;124m\"\u001b[39m:\n\u001b[1;32m---> 24\u001b[0m     \u001b[38;5;28;43mself\u001b[39;49m\u001b[38;5;241;43m.\u001b[39;49m\u001b[43madd\u001b[49m\u001b[43m(\u001b[49m\u001b[43m)\u001b[49m\n\u001b[0;32m     25\u001b[0m \u001b[38;5;28;01melse\u001b[39;00m:\n\u001b[0;32m     26\u001b[0m     \u001b[38;5;28mself\u001b[39m\u001b[38;5;241m.\u001b[39mbegin()\n",
      "Cell \u001b[1;32mIn[17], line 26\u001b[0m, in \u001b[0;36mtodolist.add\u001b[1;34m(self)\u001b[0m\n\u001b[0;32m     24\u001b[0m     \u001b[38;5;28mself\u001b[39m\u001b[38;5;241m.\u001b[39madd()\n\u001b[0;32m     25\u001b[0m \u001b[38;5;28;01melse\u001b[39;00m:\n\u001b[1;32m---> 26\u001b[0m     \u001b[38;5;28;43mself\u001b[39;49m\u001b[38;5;241;43m.\u001b[39;49m\u001b[43mbegin\u001b[49m\u001b[43m(\u001b[49m\u001b[43m)\u001b[49m\n",
      "Cell \u001b[1;32mIn[17], line 89\u001b[0m, in \u001b[0;36mtodolist.begin\u001b[1;34m(self)\u001b[0m\n\u001b[0;32m     87\u001b[0m     \u001b[38;5;28mself\u001b[39m\u001b[38;5;241m.\u001b[39madd()\n\u001b[0;32m     88\u001b[0m \u001b[38;5;28;01melif\u001b[39;00m choice \u001b[38;5;241m==\u001b[39m \u001b[38;5;124m\"\u001b[39m\u001b[38;5;124m3\u001b[39m\u001b[38;5;124m\"\u001b[39m:\n\u001b[1;32m---> 89\u001b[0m     \u001b[38;5;28;43mself\u001b[39;49m\u001b[38;5;241;43m.\u001b[39;49m\u001b[43mcomplete\u001b[49m\u001b[43m(\u001b[49m\u001b[43m)\u001b[49m\n\u001b[0;32m     90\u001b[0m \u001b[38;5;28;01melif\u001b[39;00m choice \u001b[38;5;241m==\u001b[39m \u001b[38;5;124m\"\u001b[39m\u001b[38;5;124m4\u001b[39m\u001b[38;5;124m\"\u001b[39m:\n\u001b[0;32m     91\u001b[0m     \u001b[38;5;28mself\u001b[39m\u001b[38;5;241m.\u001b[39mremove()\n",
      "Cell \u001b[1;32mIn[17], line 41\u001b[0m, in \u001b[0;36mtodolist.complete\u001b[1;34m(self)\u001b[0m\n\u001b[0;32m     39\u001b[0m \u001b[38;5;28mself\u001b[39m\u001b[38;5;241m.\u001b[39mtasks_list[completed_index][\u001b[38;5;241m-\u001b[39m\u001b[38;5;241m1\u001b[39m]\u001b[38;5;241m=\u001b[39m\u001b[38;5;124m\"\u001b[39m\u001b[38;5;124mcompleted\u001b[39m\u001b[38;5;124m\"\u001b[39m\n\u001b[0;32m     40\u001b[0m \u001b[38;5;28mprint\u001b[39m(\u001b[38;5;124m\"\u001b[39m\u001b[38;5;124mThe task has been updated as completed\u001b[39m\u001b[38;5;124m\"\u001b[39m)\n\u001b[1;32m---> 41\u001b[0m \u001b[38;5;28;43mself\u001b[39;49m\u001b[38;5;241;43m.\u001b[39;49m\u001b[43mbegin\u001b[49m\u001b[43m(\u001b[49m\u001b[43m)\u001b[49m\n",
      "Cell \u001b[1;32mIn[17], line 82\u001b[0m, in \u001b[0;36mtodolist.begin\u001b[1;34m(self)\u001b[0m\n\u001b[0;32m     79\u001b[0m \u001b[38;5;28mprint\u001b[39m(\u001b[38;5;124m\"\u001b[39m\u001b[38;5;124m5. Save Tasks in CSV\u001b[39m\u001b[38;5;124m\"\u001b[39m)\n\u001b[0;32m     80\u001b[0m \u001b[38;5;28mprint\u001b[39m(\u001b[38;5;124m\"\u001b[39m\u001b[38;5;124m6. Exit\u001b[39m\u001b[38;5;124m\"\u001b[39m)\n\u001b[1;32m---> 82\u001b[0m choice \u001b[38;5;241m=\u001b[39m \u001b[38;5;28;43minput\u001b[39;49m\u001b[43m(\u001b[49m\u001b[38;5;124;43m\"\u001b[39;49m\u001b[38;5;130;43;01m\\n\u001b[39;49;00m\u001b[38;5;124;43mEnter your choice (1-6): \u001b[39;49m\u001b[38;5;124;43m\"\u001b[39;49m\u001b[43m)\u001b[49m\n\u001b[0;32m     84\u001b[0m \u001b[38;5;28;01mif\u001b[39;00m choice \u001b[38;5;241m==\u001b[39m \u001b[38;5;124m\"\u001b[39m\u001b[38;5;124m1\u001b[39m\u001b[38;5;124m\"\u001b[39m:\n\u001b[0;32m     85\u001b[0m     \u001b[38;5;28mself\u001b[39m\u001b[38;5;241m.\u001b[39mshow()\n",
      "File \u001b[1;32m~\\AppData\\Local\\Programs\\Python\\Python312\\Lib\\site-packages\\ipykernel\\kernelbase.py:1282\u001b[0m, in \u001b[0;36mKernel.raw_input\u001b[1;34m(self, prompt)\u001b[0m\n\u001b[0;32m   1280\u001b[0m     msg \u001b[38;5;241m=\u001b[39m \u001b[38;5;124m\"\u001b[39m\u001b[38;5;124mraw_input was called, but this frontend does not support input requests.\u001b[39m\u001b[38;5;124m\"\u001b[39m\n\u001b[0;32m   1281\u001b[0m     \u001b[38;5;28;01mraise\u001b[39;00m StdinNotImplementedError(msg)\n\u001b[1;32m-> 1282\u001b[0m \u001b[38;5;28;01mreturn\u001b[39;00m \u001b[38;5;28;43mself\u001b[39;49m\u001b[38;5;241;43m.\u001b[39;49m\u001b[43m_input_request\u001b[49m\u001b[43m(\u001b[49m\n\u001b[0;32m   1283\u001b[0m \u001b[43m    \u001b[49m\u001b[38;5;28;43mstr\u001b[39;49m\u001b[43m(\u001b[49m\u001b[43mprompt\u001b[49m\u001b[43m)\u001b[49m\u001b[43m,\u001b[49m\n\u001b[0;32m   1284\u001b[0m \u001b[43m    \u001b[49m\u001b[38;5;28;43mself\u001b[39;49m\u001b[38;5;241;43m.\u001b[39;49m\u001b[43m_parent_ident\u001b[49m\u001b[43m[\u001b[49m\u001b[38;5;124;43m\"\u001b[39;49m\u001b[38;5;124;43mshell\u001b[39;49m\u001b[38;5;124;43m\"\u001b[39;49m\u001b[43m]\u001b[49m\u001b[43m,\u001b[49m\n\u001b[0;32m   1285\u001b[0m \u001b[43m    \u001b[49m\u001b[38;5;28;43mself\u001b[39;49m\u001b[38;5;241;43m.\u001b[39;49m\u001b[43mget_parent\u001b[49m\u001b[43m(\u001b[49m\u001b[38;5;124;43m\"\u001b[39;49m\u001b[38;5;124;43mshell\u001b[39;49m\u001b[38;5;124;43m\"\u001b[39;49m\u001b[43m)\u001b[49m\u001b[43m,\u001b[49m\n\u001b[0;32m   1286\u001b[0m \u001b[43m    \u001b[49m\u001b[43mpassword\u001b[49m\u001b[38;5;241;43m=\u001b[39;49m\u001b[38;5;28;43;01mFalse\u001b[39;49;00m\u001b[43m,\u001b[49m\n\u001b[0;32m   1287\u001b[0m \u001b[43m\u001b[49m\u001b[43m)\u001b[49m\n",
      "File \u001b[1;32m~\\AppData\\Local\\Programs\\Python\\Python312\\Lib\\site-packages\\ipykernel\\kernelbase.py:1325\u001b[0m, in \u001b[0;36mKernel._input_request\u001b[1;34m(self, prompt, ident, parent, password)\u001b[0m\n\u001b[0;32m   1322\u001b[0m \u001b[38;5;28;01mexcept\u001b[39;00m \u001b[38;5;167;01mKeyboardInterrupt\u001b[39;00m:\n\u001b[0;32m   1323\u001b[0m     \u001b[38;5;66;03m# re-raise KeyboardInterrupt, to truncate traceback\u001b[39;00m\n\u001b[0;32m   1324\u001b[0m     msg \u001b[38;5;241m=\u001b[39m \u001b[38;5;124m\"\u001b[39m\u001b[38;5;124mInterrupted by user\u001b[39m\u001b[38;5;124m\"\u001b[39m\n\u001b[1;32m-> 1325\u001b[0m     \u001b[38;5;28;01mraise\u001b[39;00m \u001b[38;5;167;01mKeyboardInterrupt\u001b[39;00m(msg) \u001b[38;5;28;01mfrom\u001b[39;00m \u001b[38;5;28;01mNone\u001b[39;00m\n\u001b[0;32m   1326\u001b[0m \u001b[38;5;28;01mexcept\u001b[39;00m \u001b[38;5;167;01mException\u001b[39;00m:\n\u001b[0;32m   1327\u001b[0m     \u001b[38;5;28mself\u001b[39m\u001b[38;5;241m.\u001b[39mlog\u001b[38;5;241m.\u001b[39mwarning(\u001b[38;5;124m\"\u001b[39m\u001b[38;5;124mInvalid Message:\u001b[39m\u001b[38;5;124m\"\u001b[39m, exc_info\u001b[38;5;241m=\u001b[39m\u001b[38;5;28;01mTrue\u001b[39;00m)\n",
      "\u001b[1;31mKeyboardInterrupt\u001b[0m: Interrupted by user"
     ]
    }
   ],
   "source": [
    "class todolist:\n",
    "    def __init__(self):\n",
    "        self.tasks_list = []\n",
    "\n",
    "    def show(self):\n",
    "        print(pd.DataFrame(self.tasks_list))\n",
    "\n",
    "    def add(self):\n",
    "        print(\"Enter your new task details\")\n",
    "        new_task_date = input(\"Task date: \")\n",
    "        new_task_title = input(\"Task title: \")\n",
    "        new_task_description = input(\"Task description: \")\n",
    "        new_task_quantity = input(\"Task quantity: \")\n",
    "        new_task_status = \"pending\"\n",
    "\n",
    "        new_added_task = [new_task_date, new_task_title, new_task_description, new_task_quantity, new_task_status]\n",
    "        self.tasks_list.append(new_added_task)\n",
    "\n",
    "        print(\"\\nThe task has been added successfully :)\")\n",
    "        print(f\"\\n\\n1. Add another task \\nAnything else. Main menu\")\n",
    "        print(\"\\nEnter your choice: \")\n",
    "        new_end = str(input(\" \"))\n",
    "        if new_end == \"1\":\n",
    "            self.add()\n",
    "        else:\n",
    "            self.begin()\n",
    "\n",
    "    def complete(self):\n",
    "        if not self.tasks_list:\n",
    "            print(\"No tasks available to complete.\")\n",
    "            return\n",
    "        \n",
    "        print(pd.DataFrame(self.tasks_list))\n",
    "        print(\"kindly insert the index of the completed task\")\n",
    "        completed_index = int(input(\" \"))\n",
    "        if completed_index > pd.DataFrame(self.tasks_list).shape[0]-1:\n",
    "            print(f\"No task found. The task starts from the index 0 to {pd.DataFrame(self.tasks_list).shape[0]-1}\")\n",
    "        else:\n",
    "            self.tasks_list[completed_index][-1]=\"completed\"\n",
    "            print(\"The task has been updated as completed\")\n",
    "            self.begin()\n",
    "\n",
    "    def remove(self):\n",
    "        if not self.tasks_list:\n",
    "            print(\"No tasks available to remove.\")\n",
    "            return\n",
    "        \n",
    "        print(pd.DataFrame(self.tasks_list))\n",
    "        print(\"kindly insert the index of the task which should be removed\")\n",
    "        removing_index = int(input(\" \"))\n",
    "        if removing_index > pd.DataFrame(self.tasks_list).shape[0]-1:\n",
    "            print(f\"No task found. The task starts from the index 0 to {pd.DataFrame(self.tasks_list).shape[0]-1}\")\n",
    "        else:\n",
    "            self.tasks_list.pop(removing_index)\n",
    "            print(\"The task has been removed sucessfully\")\n",
    "            self.begin()\n",
    "\n",
    "    def save(self):\n",
    "        if not self.tasks_list:\n",
    "            print(\"No tasks to save.\")\n",
    "            return\n",
    "\n",
    "        print(\"name the output file\")\n",
    "        a=input(\" \")\n",
    "        file_name= a+\".csv\"\n",
    "        pd.DataFrame(self.tasks_list).to_csv(file_name, index=False)\n",
    "        print(f\"The file {file_name} has been saved sucessfully\")\n",
    "\n",
    "    def start(self):\n",
    "        print(\"Welcome to the Task Manager\")\n",
    "        self.begin()\n",
    "\n",
    "    def begin(self):\n",
    "        while True:\n",
    "            print(\"\\n1. Show Tasks\")\n",
    "            print(\"2. Add Tasks\")\n",
    "            print(\"3. Mark as Complete\")\n",
    "            print(\"4. Remove Task\")\n",
    "            print(\"5. Save Tasks in CSV\")\n",
    "            print(\"6. Exit\")\n",
    "\n",
    "            choice = input(\"\\nEnter your choice (1-6): \")\n",
    "\n",
    "            if choice == \"1\":\n",
    "                self.show()\n",
    "            elif choice == \"2\":\n",
    "                self.add()\n",
    "            elif choice == \"3\":\n",
    "                self.complete()\n",
    "            elif choice == \"4\":\n",
    "                self.remove()\n",
    "            elif choice == \"5\":\n",
    "                self.save()\n",
    "            elif choice == \"6\":\n",
    "                print(\"Thank you for using the Task Manager!\")\n",
    "                break  # Exit the while loop properly\n",
    "            else:\n",
    "                print(\"\\nInvalid choice! Please enter a number between 1 and 6.\")\n",
    "\n",
    "app = todolist()\n",
    "app.start()"
   ]
  },
  {
   "cell_type": "code",
   "execution_count": null,
   "id": "6848914a-c12b-41aa-9aa2-f04f3ffbeb14",
   "metadata": {},
   "outputs": [],
   "source": []
  }
 ],
 "metadata": {
  "kernelspec": {
   "display_name": "Python 3 (ipykernel)",
   "language": "python",
   "name": "python3"
  },
  "language_info": {
   "codemirror_mode": {
    "name": "ipython",
    "version": 3
   },
   "file_extension": ".py",
   "mimetype": "text/x-python",
   "name": "python",
   "nbconvert_exporter": "python",
   "pygments_lexer": "ipython3",
   "version": "3.12.6"
  }
 },
 "nbformat": 4,
 "nbformat_minor": 5
}
